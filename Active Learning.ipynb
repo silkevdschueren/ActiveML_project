{
 "cells": [
  {
   "cell_type": "markdown",
   "id": "f70a6af5",
   "metadata": {},
   "source": [
    "# Active Learning\n",
    "\n",
    "Now that the data is preprocessed we can start with our actual experiments."
   ]
  },
  {
   "cell_type": "code",
   "execution_count": 1,
   "id": "865f011b",
   "metadata": {},
   "outputs": [],
   "source": [
    "import numpy as np\n",
    "import pandas as pd\n",
    "import matplotlib.pyplot as plt\n",
    "\n",
    "#Different classifiers\n",
    "from sklearn.ensemble import RandomForestClassifier, BaggingClassifier\n",
    "from sklearn.tree import DecisionTreeClassifier\n",
    "from sklearn.linear_model import LogisticRegression\n",
    "from sklearn.svm import SVC\n",
    "\n",
    "from sklearn import pipeline, preprocessing\n",
    "from sklearn.pipeline import make_pipeline\n",
    "from sklearn.preprocessing import StandardScaler\n",
    "from sklearn.model_selection import cross_val_score, GridSearchCV, KFold, train_test_split, StratifiedKFold\n",
    "from skactiveml.pool import UncertaintySampling, QueryByCommittee\n",
    "from skactiveml.classifier import SklearnClassifier\n",
    "from skactiveml.visualization import plot_decision_boundary, plot_utilities\n",
    "from skactiveml.utils import unlabeled_indices, labeled_indices, MISSING_LABEL\n",
    "from skactiveml.pool import RandomSampling, UncertaintySampling, ProbabilisticAL, CostEmbeddingAL, EpistemicUncertaintySampling"
   ]
  },
  {
   "cell_type": "markdown",
   "id": "b9c5fb1f",
   "metadata": {},
   "source": [
    "First we need to read in the dataframe where we categorize the target in numbers and get the input features and labels"
   ]
  },
  {
   "cell_type": "code",
   "execution_count": 2,
   "id": "cff3b9da",
   "metadata": {},
   "outputs": [],
   "source": [
    "#read in dataframe\n",
    "data = pd.read_csv('dataset_1.csv')\n",
    "\n",
    "#define the target and categorize it in numbers\n",
    "target = 'PROFILE'\n",
    "profile_options = np.unique(data['PROFILE'])\n",
    "for index, profile in enumerate(profile_options):\n",
    "    data.loc[data['PROFILE'] == profile,'PROFILE'] = index\n",
    "\n",
    "#then get your input features and labels\n",
    "X = np.array(data.drop(target, axis=1).values.tolist())\n",
    "y_true = np.array(data[target]).astype('int')"
   ]
  },
  {
   "cell_type": "markdown",
   "id": "f060a3a0",
   "metadata": {},
   "source": [
    "Now we have extracted our features and labels and we can start our little experiment. The experiment goes as follows:\n",
    "\n",
    "1) First we apply cross-validation on the classifier without tuning the hyperparameters.\n",
    "\n",
    "2) We first just get a model and accuracy for the classifier without tuning the hyperparameters. \n",
    "\n",
    "3) Then we tune the hyperparameters of our classifier with the nested cross validation grid search.\n",
    "\n",
    "4) Then we split out data into a training set and a test set.\n",
    "\n",
    "5) We apply the active learning algorithm for different active learning methods by using a batch size of 100 for each active learning cycle. Then we run the algorithm so that after a certain amount of cycles we get to the training set. Then we compare these results for every active learning method to the classifier without using active learning. The model architecture and hyperparameters are all the same for every method.\n",
    "\n",
    "6) We do this for both the classifier with and without tuning the hyperparameters."
   ]
  },
  {
   "cell_type": "markdown",
   "id": "527306b7",
   "metadata": {},
   "source": [
    "Now that our experiment is thought through, we can start"
   ]
  },
  {
   "cell_type": "markdown",
   "id": "6db19191",
   "metadata": {},
   "source": [
    "### 1-2) Applying cross-validation on the classifier without tuning the hyperparameters"
   ]
  },
  {
   "cell_type": "code",
   "execution_count": 3,
   "id": "664e0750",
   "metadata": {},
   "outputs": [],
   "source": [
    "def class_accs(y_pred, y_true):\n",
    "    acc0 = ((y_pred == y_true) & (y_true == 0)).sum() / (y_true == 0).sum()\n",
    "    acc1 = ((y_pred == y_true) & (y_true == 1)).sum() / (y_true == 1).sum()\n",
    "    return acc0, acc1\n",
    "\n",
    "def balanced_accuracy(y_pred, y_test):\n",
    "    acc0, acc1 = class_accs(y_pred, y_test)\n",
    "    return (acc0 + acc1) / 2\n",
    "\n",
    "def cross_validation(X, y, folds, clf):\n",
    "    skf = StratifiedKFold(n_splits=folds)\n",
    "    bal_accs = []\n",
    "    for i, (train_index, test_index) in enumerate(skf.split(X,y)):\n",
    "        X_train, X_test = X[train_index], X[test_index]\n",
    "        y_train, y_test = y[train_index], y[test_index]\n",
    "        clf.fit(X_train, y_train)\n",
    "        y_pred = clf.predict(X_test)\n",
    "        bal_acc = balanced_accuracy(y_pred, y_test)\n",
    "        bal_accs.append(bal_acc)\n",
    "    print(f\"Avg balanced accuracy: {np.mean(bal_accs):.3f}\")\n",
    "    print()"
   ]
  },
  {
   "cell_type": "code",
   "execution_count": 4,
   "id": "076b8fc0",
   "metadata": {},
   "outputs": [
    {
     "name": "stdout",
     "output_type": "stream",
     "text": [
      "Decision Tree\n",
      "Avg balanced accuracy: 0.748\n",
      "\n"
     ]
    }
   ],
   "source": [
    "print('Decision Tree')\n",
    "clf = pipeline.Pipeline([('sc', StandardScaler()), \n",
    "                         ('tree', DecisionTreeClassifier())])\n",
    "cross_validation(X, y_true, 5, clf)"
   ]
  },
  {
   "cell_type": "markdown",
   "id": "897878ed",
   "metadata": {},
   "source": [
    "### 3) Tuning the Hyperparameters\n",
    "TO DO: normaal de nested_cv gebruiken maar kan nog geen best parameters printen"
   ]
  },
  {
   "cell_type": "code",
   "execution_count": 5,
   "id": "e507cdbb",
   "metadata": {},
   "outputs": [],
   "source": [
    "def grid_search(X, y, model, p_grid):\n",
    "    cv = KFold(n_splits=5, shuffle=True, random_state=0)\n",
    "    clf = GridSearchCV(estimator=model, param_grid=p_grid, scoring=\"balanced_accuracy\", cv=cv)\n",
    "    clf.fit(X, y)\n",
    "    print(f\"Best score: {clf.best_score_:.4f}\")\n",
    "    print(f\"Best params: {clf.best_params_}\")\n",
    "    return clf.best_params_\n",
    "    \n",
    "def nested_cv(X, y, model, p_grid):\n",
    "    inner_cv = KFold(n_splits=5, shuffle=True, random_state=0)\n",
    "    outer_cv = KFold(n_splits=5, shuffle=True, random_state=0)\n",
    "    \n",
    "    clf = GridSearchCV(estimator=model, param_grid=p_grid, cv=inner_cv)\n",
    "    nested_score = cross_val_score(clf, X, y, cv=outer_cv)\n",
    "    return nested_score.mean()"
   ]
  },
  {
   "cell_type": "code",
   "execution_count": 6,
   "id": "98d2c504",
   "metadata": {},
   "outputs": [
    {
     "name": "stdout",
     "output_type": "stream",
     "text": [
      "Decision Tree\n",
      "Best score: 0.7754\n",
      "Best params: {'decisiontreeclassifier__criterion': 'entropy', 'decisiontreeclassifier__max_depth': None}\n"
     ]
    }
   ],
   "source": [
    "print(\"Decision Tree\")\n",
    "clf = make_pipeline(StandardScaler(), DecisionTreeClassifier(random_state=0))\n",
    "best_param_dt = grid_search(X, y_true, clf, {\"decisiontreeclassifier__criterion\": [\"gini\", \"entropy\"], \"decisiontreeclassifier__max_depth\": [3, 4, 5, None]})"
   ]
  },
  {
   "cell_type": "markdown",
   "id": "b0b30e9d",
   "metadata": {},
   "source": [
    "### 4) Splitsing in Training and Testing set"
   ]
  },
  {
   "cell_type": "code",
   "execution_count": 7,
   "id": "bb93cc65",
   "metadata": {},
   "outputs": [],
   "source": [
    "X_train,X_test,y_train,y_test = train_test_split(X,y_true,test_size = 0.25)"
   ]
  },
  {
   "cell_type": "code",
   "execution_count": 8,
   "id": "9baa4644",
   "metadata": {},
   "outputs": [
    {
     "name": "stdout",
     "output_type": "stream",
     "text": [
      "Length of the training set: 14496\n"
     ]
    }
   ],
   "source": [
    "print('Length of the training set: '+str(len(X_train)))"
   ]
  },
  {
   "cell_type": "markdown",
   "id": "33d5ae2a",
   "metadata": {},
   "source": [
    "### 5) Apply Active Learning\n",
    "Daarvoor normaliseren we eerst de data"
   ]
  },
  {
   "cell_type": "code",
   "execution_count": 9,
   "id": "b1dfcd14",
   "metadata": {},
   "outputs": [
    {
     "name": "stdout",
     "output_type": "stream",
     "text": [
      "[[39. 52. 34. ... 69. 65. 73.]\n",
      " [28. 44. 16. ... 41. 40. 76.]\n",
      " [74. 36. 41. ... 52. 77. 66.]\n",
      " ...\n",
      " [32. 50. 22. ... 61. 81. 75.]\n",
      " [ 0. 96. 69. ... 64. 68. 68.]\n",
      " [51. 24. 36. ... 63. 61. 87.]]\n"
     ]
    }
   ],
   "source": [
    "print(X)"
   ]
  },
  {
   "cell_type": "code",
   "execution_count": 10,
   "id": "694aab2c",
   "metadata": {},
   "outputs": [
    {
     "name": "stdout",
     "output_type": "stream",
     "text": [
      "[[ 0.05935262  0.37752724 -0.14581716 ...  0.28598535 -0.16367699\n",
      "   0.40363388]\n",
      " [-0.43264839  0.01919316 -1.02185322 ... -1.72329305 -1.92598189\n",
      "   0.6124145 ]\n",
      " [ 1.62481036 -0.33914093  0.19486353 ... -0.93393368  0.68222937\n",
      "  -0.08352089]\n",
      " ...\n",
      " [-0.25373893  0.28794372 -0.7298412  ... -0.28809419  0.96419815\n",
      "   0.54282096]\n",
      " [-1.68501458  2.34836472  1.55758629 ... -0.07281436  0.0477996\n",
      "   0.05566619]\n",
      " [ 0.59608099 -0.87664206 -0.04847982 ... -0.14457431 -0.44564577\n",
      "   1.37794343]]\n"
     ]
    }
   ],
   "source": [
    "scaler = StandardScaler()\n",
    "scaler.fit(X)\n",
    "X_scaled = scaler.transform(X)\n",
    "print(X_scaled)"
   ]
  },
  {
   "cell_type": "code",
   "execution_count": 11,
   "id": "5a042856",
   "metadata": {},
   "outputs": [],
   "source": [
    "def ActiveLearning_UncertaintySampling(X, y_true, n_cycles, batch_size, clf, method='entropy'):\n",
    "    \"\"\"\n",
    "    In uncertainty sampling, the unlabeled instance that the model is the least certain about is chosen.\n",
    "    \n",
    "    :param X: Features of the dataset.\n",
    "    :param y_true: True classes of the dataset.\n",
    "    :param n_cycles: Number of times that a query has to be taken.\n",
    "    :param batch_size: Size of the batch of a single query.\n",
    "    :param clf: Classifier method.\n",
    "    :param method: Optimal parameter determining the measure for uncertainty. Default is entropy.\n",
    "    \"\"\"\n",
    "        \n",
    "    y = np.full(shape=y_true.shape, fill_value=MISSING_LABEL)\n",
    "    initials = np.random.randint(0, len(X), batch_size)\n",
    "    y[initials] = y_true[initials]\n",
    "    clf.fit(X, y)\n",
    "    \n",
    "    qs = UncertaintySampling(method=method)\n",
    "    \n",
    "    accuracies = []\n",
    "    cycle = []\n",
    "    for c in range(n_cycles):\n",
    "        query_idx = qs.query(X=X, y=y, clf=clf, batch_size=batch_size)\n",
    "        y[query_idx] = y_true[query_idx]\n",
    "        clf.fit(X, y)\n",
    "        \n",
    "        unlbld_idx = unlabeled_indices(y)\n",
    "        lbld_idx = labeled_indices(y)\n",
    "        accuracies.append(clf.score(X,y_true))\n",
    "        cycle.append(c*batch_size)\n",
    "        \n",
    "    return cycle, accuracies\n",
    "\n",
    "\n",
    "def ActiveLearning_RandomSampling(X, y_true, n_cycles, batch_size, clf):\n",
    "    \"\"\"\n",
    "    In random sampling, the query is chosen randomly from the unlabeled instances.\n",
    "    \n",
    "    :param X: Features of the dataset.\n",
    "    :param y_true: True classes of the dataset.\n",
    "    :param n_cycles: Number of times that a query has to be taken.\n",
    "    :param batch_size: Size of the batch of a single query.\n",
    "    :param clf: Classifier method.\n",
    "    \"\"\"\n",
    "        \n",
    "    y = np.full(shape=y_true.shape, fill_value=MISSING_LABEL)\n",
    "    initials = np.random.randint(0, len(X), batch_size)\n",
    "    y[initials] = y_true[initials]\n",
    "    clf.fit(X, y)\n",
    "    \n",
    "    qs = RandomSampling()\n",
    "    \n",
    "    accuracies = []\n",
    "    cycle = []\n",
    "    for c in range(n_cycles):\n",
    "        query_idx = qs.query(X=X, y=y, batch_size=batch_size)\n",
    "        y[query_idx] = y_true[query_idx]\n",
    "        clf.fit(X, y)\n",
    "        \n",
    "        unlbld_idx = unlabeled_indices(y)\n",
    "        lbld_idx = labeled_indices(y)\n",
    "        accuracies.append(clf.score(X,y_true))\n",
    "        cycle.append(c*batch_size)\n",
    "    return cycle, accuracies\n",
    "\n",
    "\n",
    "def ActiveLearning_QueryByCommittee(X, y_true, n_cycles, batch_size, clf, committee_size=3):\n",
    "    \"\"\"\n",
    "    The query-by-committee algorithm involves maintaining a committee of models which are all trained on the \n",
    "    current labeled set L, but representing competing hypotheses. Each committee member is allowed to vote on \n",
    "    the labeling of the query candidates. The most informative query is considered to be the instance about \n",
    "    which they most disagree.\n",
    "    \n",
    "    :param X: Features of the dataset.\n",
    "    :param y_true: True classes of the dataset.\n",
    "    :param n_cycles: Number of times that a query has to be taken.\n",
    "    :param batch_size: Size of the batch of a single query.\n",
    "    :param clf: Classifier method.\n",
    "    :param committee_size: Optional parameter giving number of methods in the committee. Default value is three.\n",
    "    \"\"\"\n",
    "    \n",
    "    y = np.full(shape=y_true.shape, fill_value=MISSING_LABEL)\n",
    "    initials = np.random.randint(0, len(X), batch_size)\n",
    "    y[initials] = y_true[initials]\n",
    "    ensemble_bagging = SklearnClassifier(estimator=BaggingClassifier(base_estimator=clf, n_estimators=committee_size), \n",
    "                                         classes=np.unique(y_true))\n",
    "    ensemble_bagging.fit(X, y)\n",
    "    \n",
    "    qs = QueryByCommittee()\n",
    "            \n",
    "    accuracies = []\n",
    "    cycle = []\n",
    "    \n",
    "    for c in range(n_cycles):\n",
    "        query_idx = qs.query(X=X, y=y, ensemble=ensemble_bagging, batch_size=batch_size)\n",
    "        y[query_idx] = y_true[query_idx]\n",
    "        ensemble_bagging.fit(X, y)\n",
    "        \n",
    "        unlbld_idx = unlabeled_indices(y)\n",
    "        lbld_idx = labeled_indices(y)\n",
    "        accuracies.append(ensemble_bagging.score(X,y_true))\n",
    "        cycle.append(c*batch_size)\n",
    "        \n",
    "    return cycle, accuracies\n",
    "\n",
    "\n",
    "def plot_AL(cycle, accuracies, qs_name, clf_name):\n",
    "    plt.plot(cycle, accuracies, label = qs_name)\n",
    "    plt.xlabel('Labeled samples')\n",
    "    plt.ylabel('Accuracy')\n",
    "    plt.title(clf_name)\n",
    "    plt.legend()\n",
    "    plt.show()"
   ]
  },
  {
   "cell_type": "code",
   "execution_count": 12,
   "id": "720788e3",
   "metadata": {},
   "outputs": [
    {
     "name": "stdout",
     "output_type": "stream",
     "text": [
      "Decision Tree\n"
     ]
    },
    {
     "data": {
      "image/png": "[encoded data removed]",
      "text/plain": [
       "<Figure size 640x480 with 1 Axes>"
      ]
     },
     "metadata": {},
     "output_type": "display_data"
    }
   ],
   "source": [
    "print('Decision Tree')\n",
    "clf = SklearnClassifier(DecisionTreeClassifier(criterion = 'entropy'), classes=np.unique(y_true))\n",
    "clf_name = 'Decision Tree'\n",
    "qs = UncertaintySampling(method='entropy')\n",
    "qs_name = 'Uncertainty Sampling'\n",
    "cycle, accuracies = ActiveLearning_UncertaintySampling(X_scaled, y_true, 190, 100, clf)\n",
    "plot_AL(cycle, accuracies, qs_name, clf_name)"
   ]
  },
  {
   "cell_type": "code",
   "execution_count": 13,
   "id": "363aabb6-3166-4936-adf4-008ea78da9a3",
   "metadata": {},
   "outputs": [
    {
     "data": {
      "image/png": "[encoded data removed]",
      "text/plain": [
       "<Figure size 640x480 with 1 Axes>"
      ]
     },
     "metadata": {},
     "output_type": "display_data"
    }
   ],
   "source": [
    "clf_name = 'Decision Tree'\n",
    "colors = ['blue', 'red', 'green']\n",
    "\n",
    "clf = SklearnClassifier(DecisionTreeClassifier(criterion = 'entropy'), classes=np.unique(y_true))\n",
    "cycle, accuracies = ActiveLearning_RandomSampling(X_scaled, y_true, 190, 100, clf)\n",
    "plt.plot(cycle, accuracies, color = 'red', label = 'Random')\n",
    "clf = SklearnClassifier(DecisionTreeClassifier(criterion = 'entropy'), classes=np.unique(y_true))\n",
    "cycle, accuracies = ActiveLearning_UncertaintySampling(X_scaled, y_true, 190, 100, clf)\n",
    "plt.plot(cycle, accuracies, color = 'blue', label = 'Uncertainty')\n",
    "clf = SklearnClassifier(DecisionTreeClassifier(criterion = 'entropy'), classes=np.unique(y_true))\n",
    "cycle, accuracies = ActiveLearning_QueryByCommittee(X_scaled, y_true, 190, 100, clf)\n",
    "plt.plot(cycle, accuracies, color = 'green', label = 'QBC')\n",
    "\n",
    "plt.xlabel('Labeled samples')\n",
    "plt.ylabel('Accuracy')\n",
    "plt.title(clf_name)\n",
    "plt.legend()\n",
    "plt.show()"
   ]
  },
  {
   "cell_type": "code",
   "execution_count": null,
   "id": "ad425820-00cd-4d1b-88f0-ab88b63a0c51",
   "metadata": {},
   "outputs": [],
   "source": []
  }
 ],
 "metadata": {
  "kernelspec": {
   "display_name": "Python 3 (ipykernel)",
   "language": "python",
   "name": "python3"
  },
  "language_info": {
   "codemirror_mode": {
    "name": "ipython",
    "version": 3
   },
   "file_extension": ".py",
   "mimetype": "text/x-python",
   "name": "python",
   "nbconvert_exporter": "python",
   "pygments_lexer": "ipython3",
   "version": "3.10.4"
  }
 },
 "nbformat": 4,
 "nbformat_minor": 5
}
