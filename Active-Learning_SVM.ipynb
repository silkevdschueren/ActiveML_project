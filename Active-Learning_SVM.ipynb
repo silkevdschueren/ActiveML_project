{
 "cells": [
  {
   "cell_type": "markdown",
   "id": "4ec4a8ad",
   "metadata": {},
   "source": [
    "# Active Learning on the Support Vector Machine classifier\n",
    "\n",
    "Now that the data is preprocessed we can start with our actual experiments."
   ]
  },
  {
   "cell_type": "code",
   "execution_count": 1,
   "id": "d5d63b4e",
   "metadata": {},
   "outputs": [],
   "source": [
    "import numpy as np\n",
    "import pandas as pd\n",
    "import matplotlib.pyplot as plt\n",
    "import skactiveml\n",
    "\n",
    "#Different classifiers\n",
    "from sklearn.ensemble import RandomForestClassifier, BaggingClassifier\n",
    "from sklearn.tree import DecisionTreeClassifier\n",
    "from sklearn.linear_model import LogisticRegression\n",
    "from sklearn.svm import SVC\n",
    "\n",
    "from sklearn.base import BaseEstimator\n",
    "from sklearn import pipeline, preprocessing\n",
    "from sklearn.pipeline import make_pipeline\n",
    "from sklearn.preprocessing import StandardScaler\n",
    "from sklearn.model_selection import cross_val_score, GridSearchCV, KFold, train_test_split, StratifiedKFold\n",
    "from skactiveml.pool import UncertaintySampling, QueryByCommittee, GreedySamplingX\n",
    "from skactiveml.classifier import SklearnClassifier\n",
    "from skactiveml.base import ClassFrequencyEstimator, SkactivemlClassifier\n",
    "from skactiveml.visualization import plot_decision_boundary, plot_utilities\n",
    "from skactiveml.utils import unlabeled_indices, labeled_indices, MISSING_LABEL\n",
    "from skactiveml.pool import RandomSampling, UncertaintySampling, ProbabilisticAL, CostEmbeddingAL, EpistemicUncertaintySampling"
   ]
  },
  {
   "cell_type": "markdown",
   "id": "dc7308f2",
   "metadata": {},
   "source": [
    "First we need to read in the dataframe where we categorize the target in numbers and get the input features and labels"
   ]
  },
  {
   "cell_type": "code",
   "execution_count": 3,
   "id": "4566db0e",
   "metadata": {},
   "outputs": [],
   "source": [
    "#read in dataframe\n",
    "data = pd.read_csv('dataset_1.csv')\n",
    "\n",
    "#define the target and categorize it in numbers\n",
    "target = 'PROFILE'\n",
    "profile_options = np.unique(data['PROFILE'])\n",
    "for index, profile in enumerate(profile_options):\n",
    "    data.loc[data['PROFILE'] == profile,'PROFILE'] = index\n",
    "\n",
    "#then get your input features and labels\n",
    "X = np.array(data.drop(target, axis=1).values.tolist())\n",
    "y_true = np.array(data[target]).astype('int')"
   ]
  },
  {
   "cell_type": "markdown",
   "id": "2104f9fe",
   "metadata": {},
   "source": [
    "### 1-2) Applying cross-validation on the classifier without tuning the hyperparameters"
   ]
  },
  {
   "cell_type": "code",
   "execution_count": 4,
   "id": "bdd8dfff",
   "metadata": {},
   "outputs": [],
   "source": [
    "def class_accs(y_pred, y_true):\n",
    "    acc0 = ((y_pred == y_true) & (y_true == 0)).sum() / (y_true == 0).sum()\n",
    "    acc1 = ((y_pred == y_true) & (y_true == 1)).sum() / (y_true == 1).sum()\n",
    "    return acc0, acc1\n",
    "\n",
    "def balanced_accuracy(y_pred, y_test):\n",
    "    acc0, acc1 = class_accs(y_pred, y_test)\n",
    "    return (acc0 + acc1) / 2\n",
    "\n",
    "def cross_validation(X, y, folds, clf):\n",
    "    skf = StratifiedKFold(n_splits=folds)\n",
    "    bal_accs = []\n",
    "    for i, (train_index, test_index) in enumerate(skf.split(X,y)):\n",
    "        X_train, X_test = X[train_index], X[test_index]\n",
    "        y_train, y_test = y[train_index], y[test_index]\n",
    "        clf.fit(X_train, y_train)\n",
    "        y_pred = clf.predict(X_test)\n",
    "        bal_acc = balanced_accuracy(y_pred, y_test)\n",
    "        bal_accs.append(bal_acc)\n",
    "    print(f\"Avg balanced accuracy: {np.mean(bal_accs):.3f}\")\n",
    "    print()"
   ]
  },
  {
   "cell_type": "code",
   "execution_count": 6,
   "id": "da3be943",
   "metadata": {},
   "outputs": [
    {
     "name": "stdout",
     "output_type": "stream",
     "text": [
      "SVM\n",
      "Avg balanced accuracy: 0.919\n",
      "\n"
     ]
    }
   ],
   "source": [
    "print('SVM')\n",
    "clf = pipeline.Pipeline([('sc', StandardScaler()), \n",
    "                         ('svm', SVC())])\n",
    "cross_validation(X, y_true, 5, clf)"
   ]
  },
  {
   "cell_type": "markdown",
   "id": "db7b57a9",
   "metadata": {},
   "source": [
    "### 3) Tuning the Hyperparameters\n",
    "TO DO: normaal de nested_cv gebruiken maar kan nog geen best parameters printen"
   ]
  },
  {
   "cell_type": "code",
   "execution_count": 7,
   "id": "f7a1f565",
   "metadata": {},
   "outputs": [],
   "source": [
    "def grid_search(X, y, model, p_grid):\n",
    "    cv = KFold(n_splits=5, shuffle=True, random_state=0)\n",
    "    clf = GridSearchCV(estimator=model, param_grid=p_grid, scoring=\"balanced_accuracy\", cv=cv)\n",
    "    clf.fit(X, y)\n",
    "    print(f\"Best score: {clf.best_score_:.4f}\")\n",
    "    print(f\"Best params: {clf.best_params_}\")\n",
    "    return clf.best_params_\n",
    "    \n",
    "def nested_cv(X, y, model, p_grid):\n",
    "    inner_cv = KFold(n_splits=5, shuffle=True, random_state=0)\n",
    "    outer_cv = KFold(n_splits=5, shuffle=True, random_state=0)\n",
    "    \n",
    "    clf = GridSearchCV(estimator=model, param_grid=p_grid, cv=inner_cv)\n",
    "    nested_score = cross_val_score(clf, X, y, cv=outer_cv)\n",
    "    return nested_score.mean()"
   ]
  },
  {
   "cell_type": "code",
   "execution_count": 12,
   "id": "c31ae1f4",
   "metadata": {},
   "outputs": [
    {
     "name": "stdout",
     "output_type": "stream",
     "text": [
      "Suport Vector Machine\n",
      "Best score: 0.9300\n",
      "Best params: {'svc__C': 10, 'svc__kernel': 'rbf'}\n"
     ]
    }
   ],
   "source": [
    "print(\"Suport Vector Machine\")\n",
    "clf = make_pipeline(StandardScaler(), SVC(random_state=0))\n",
    "#print(SVC.get_params().keys())\n",
    "best_param_dt = grid_search(X, y_true, clf, {\"svc__kernel\": ['linear', 'rbf', 'poly'], \"svc__C\": [1, 10, 100]})"
   ]
  },
  {
   "cell_type": "markdown",
   "id": "a399f375",
   "metadata": {},
   "source": [
    "### 4) Splitsing in Training and Testing set"
   ]
  },
  {
   "cell_type": "code",
   "execution_count": 13,
   "id": "49aa17d7",
   "metadata": {},
   "outputs": [],
   "source": [
    "X_train,X_test,y_train,y_test = train_test_split(X,y_true,test_size = 0.25)"
   ]
  },
  {
   "cell_type": "code",
   "execution_count": 14,
   "id": "9a2a5afd",
   "metadata": {},
   "outputs": [
    {
     "name": "stdout",
     "output_type": "stream",
     "text": [
      "Length of the training set: 2250\n"
     ]
    }
   ],
   "source": [
    "print('Length of the training set: '+str(len(X_train)))"
   ]
  },
  {
   "cell_type": "markdown",
   "id": "95cf37f0",
   "metadata": {},
   "source": [
    "### 5) Apply Active Learning\n",
    "Daarvoor normaliseren we eerst de data"
   ]
  },
  {
   "cell_type": "code",
   "execution_count": 15,
   "id": "1f36f541",
   "metadata": {},
   "outputs": [],
   "source": [
    "scaler = StandardScaler()\n",
    "scaler.fit(X)\n",
    "X_scaled = scaler.transform(X)"
   ]
  },
  {
   "cell_type": "code",
   "execution_count": 21,
   "id": "bed3c057",
   "metadata": {},
   "outputs": [],
   "source": [
    "def ActiveLearning_UncertaintySampling(X, y_true, n_cycles, batch_size, clf, method='entropy'):\n",
    "    \"\"\"\n",
    "    In uncertainty sampling, the unlabeled instance that the model is the least certain about is chosen.\n",
    "    \n",
    "    :param X: Features of the dataset.\n",
    "    :param y_true: True classes of the dataset.\n",
    "    :param n_cycles: Number of times that a query has to be taken.\n",
    "    :param batch_size: Size of the batch of a single query.\n",
    "    :param clf: Classifier method.\n",
    "    :param method: Optimal parameter determining the measure for uncertainty. Default is entropy.\n",
    "    \"\"\"\n",
    "        \n",
    "    y = np.full(shape=y_true.shape, fill_value=MISSING_LABEL)\n",
    "    initials = np.random.randint(0, len(X), batch_size)\n",
    "    y[initials] = y_true[initials]\n",
    "    clf.fit(X, y)\n",
    "    \n",
    "    qs = UncertaintySampling(method=method)\n",
    "    \n",
    "    accuracies = []\n",
    "    cycle = []\n",
    "    for c in range(n_cycles):\n",
    "        query_idx = qs.query(X=X, y=y, clf=clf, batch_size=batch_size)\n",
    "        y[query_idx] = y_true[query_idx]\n",
    "        clf.fit(X, y)\n",
    "        \n",
    "        unlbld_idx = unlabeled_indices(y)\n",
    "        lbld_idx = labeled_indices(y)\n",
    "        accuracies.append(clf.score(X,y_true))\n",
    "        cycle.append(c*batch_size)\n",
    "        \n",
    "    return cycle, accuracies\n",
    "\n",
    "\n",
    "def ActiveLearning_RandomSampling(X, y_true, n_cycles, batch_size, clf):\n",
    "    \"\"\"\n",
    "    In random sampling, the query is chosen randomly from the unlabeled instances.\n",
    "    \n",
    "    :param X: Features of the dataset.\n",
    "    :param y_true: True classes of the dataset.\n",
    "    :param n_cycles: Number of times that a query has to be taken.\n",
    "    :param batch_size: Size of the batch of a single query.\n",
    "    :param clf: Classifier method.\n",
    "    \"\"\"\n",
    "        \n",
    "    y = np.full(shape=y_true.shape, fill_value=MISSING_LABEL)\n",
    "    initials = np.random.randint(0, len(X), batch_size)\n",
    "    y[initials] = y_true[initials]\n",
    "    clf.fit(X, y)\n",
    "    \n",
    "    qs = RandomSampling()\n",
    "    \n",
    "    accuracies = []\n",
    "    cycle = []\n",
    "    for c in range(n_cycles):\n",
    "        query_idx = qs.query(X=X, y=y, batch_size=batch_size)\n",
    "        y[query_idx] = y_true[query_idx]\n",
    "        clf.fit(X, y)\n",
    "        \n",
    "        unlbld_idx = unlabeled_indices(y)\n",
    "        lbld_idx = labeled_indices(y)\n",
    "        accuracies.append(clf.score(X,y_true))\n",
    "        cycle.append(c*batch_size)\n",
    "    return cycle, accuracies\n",
    "\n",
    "\n",
    "def ActiveLearning_QueryByCommittee(X, y_true, n_cycles, batch_size, clf, committee_size=3):\n",
    "    \"\"\"\n",
    "    The query-by-committee algorithm involves maintaining a committee of models which are all trained on the \n",
    "    current labeled set L, but representing competing hypotheses. Each committee member is allowed to vote on \n",
    "    the labeling of the query candidates. The most informative query is considered to be the instance about \n",
    "    which they most disagree.\n",
    "    \n",
    "    :param X: Features of the dataset.\n",
    "    :param y_true: True classes of the dataset.\n",
    "    :param n_cycles: Number of times that a query has to be taken.\n",
    "    :param batch_size: Size of the batch of a single query.\n",
    "    :param clf: Classifier method.\n",
    "    :param committee_size: Optional parameter giving number of methods in the committee. Default value is three.\n",
    "    \"\"\"\n",
    "    \n",
    "    y = np.full(shape=y_true.shape, fill_value=MISSING_LABEL)\n",
    "    initials = np.random.randint(0, len(X), batch_size)\n",
    "    y[initials] = y_true[initials]\n",
    "    ensemble_bagging = SklearnClassifier(estimator=BaggingClassifier(base_estimator=clf, n_estimators=committee_size), \n",
    "                                         classes=np.unique(y_true))\n",
    "    ensemble_bagging.fit(X, y)\n",
    "    \n",
    "    qs = QueryByCommittee()\n",
    "            \n",
    "    accuracies = []\n",
    "    cycle = []\n",
    "    \n",
    "    for c in range(n_cycles):\n",
    "        query_idx = qs.query(X=X, y=y, ensemble=ensemble_bagging, batch_size=batch_size)\n",
    "        y[query_idx] = y_true[query_idx]\n",
    "        ensemble_bagging.fit(X, y)\n",
    "        \n",
    "        unlbld_idx = unlabeled_indices(y)\n",
    "        lbld_idx = labeled_indices(y)\n",
    "        accuracies.append(ensemble_bagging.score(X,y_true))\n",
    "        cycle.append(c*batch_size)\n",
    "        \n",
    "    return cycle, accuracies\n",
    "\n",
    "\n",
    "def ActiveLearning_CostEmbeddingAL(X, y_true, n_cycles, batch_size, clf, classes):\n",
    "    \"\"\"\n",
    "    The Cost Embedding algorithm is a cost sensitive multi-class algorithm. It assumes that each class has at \n",
    "    least one sample in the labeled pool. Cost-sensitive active learning algorithms allows the user to pass in the \n",
    "    cost matrix as a parameter and select the data points that it thinks to perform the best on the given cost matrix.\n",
    "    Assume we have a total of K classes, cost matrix can be represented as a K*K matrix. The i-th row, j-th column \n",
    "    represents the cost of the ground truth being i-th class and prediction as j-th class. The goal is to minimize \n",
    "    the total cost.\n",
    "    \n",
    "    :param X: Features of the dataset.\n",
    "    :param y_true: True classes of the dataset.\n",
    "    :param n_cycles: Number of times that a query has to be taken.\n",
    "    :param batch_size: Size of the batch of a single query.\n",
    "    :param clf: Classifier method.\n",
    "    :param classes: array-like of shape(n_classes,)\n",
    "    \"\"\"\n",
    "    \n",
    "    y = np.full(shape=y_true.shape, fill_value=MISSING_LABEL)\n",
    "    initials = np.random.randint(0, len(X), batch_size)\n",
    "    y[initials] = y_true[initials]\n",
    "    clf.fit(X, y)\n",
    "    \n",
    "    qs = CostEmbeddingAL(classes=classes)\n",
    "    \n",
    "    accuracies = []\n",
    "    cycle = []\n",
    "    for c in range(n_cycles):\n",
    "        query_idx = qs.query(X=X, y=y, batch_size=batch_size)\n",
    "        y[query_idx] = y_true[query_idx]\n",
    "        clf.fit(X, y)\n",
    "        \n",
    "        unlbld_idx = unlabeled_indices(y)\n",
    "        lbld_idx = labeled_indices(y)\n",
    "        accuracies.append(clf.score(X,y_true))\n",
    "        cycle.append(c*batch_size)\n",
    "    return cycle, accuracies\n",
    "\n",
    "\n",
    "def ActiveLearning_GreedySamplingX(X, y_true, n_cycles, batch_size, clf):\n",
    "    \"\"\"\n",
    "    In greedy sampling, the query strategy tries to select those samples that increase the diversity of \n",
    "    the feature space the most.\n",
    "    \n",
    "    :param X: Features of the dataset.\n",
    "    :param y_true: True classes of the dataset.\n",
    "    :param n_cycles: Number of times that a query has to be taken.\n",
    "    :param batch_size: Size of the batch of a single query.\n",
    "    :param clf: Classifier method.\n",
    "    \"\"\"\n",
    "        \n",
    "    y = np.full(shape=y_true.shape, fill_value=MISSING_LABEL)\n",
    "    initials = np.random.randint(0, len(X), batch_size)\n",
    "    y[initials] = y_true[initials]\n",
    "    clf.fit(X, y)\n",
    "    \n",
    "    qs = GreedySamplingX()\n",
    "    \n",
    "    accuracies = []\n",
    "    cycle = []\n",
    "    for c in range(n_cycles):\n",
    "        query_idx = qs.query(X=X, y=y, batch_size=batch_size)\n",
    "        y[query_idx] = y_true[query_idx]\n",
    "        clf.fit(X, y)\n",
    "        \n",
    "        unlbld_idx = unlabeled_indices(y)\n",
    "        lbld_idx = labeled_indices(y)\n",
    "        accuracies.append(clf.score(X,y_true))\n",
    "        cycle.append(c*batch_size)\n",
    "    return cycle, accuracies\n",
    "\n",
    "def plot_AL(cycle, accuracies, qs_name, clf_name):\n",
    "    plt.plot(cycle, accuracies, label = qs_name)\n",
    "    plt.xlabel('Labeled samples')\n",
    "    plt.ylabel('Accuracy')\n",
    "    plt.title(clf_name)\n",
    "    plt.legend()\n",
    "    plt.show()"
   ]
  },
  {
   "cell_type": "code",
   "execution_count": 22,
   "id": "88c4d858",
   "metadata": {},
   "outputs": [
    {
     "name": "stdout",
     "output_type": "stream",
     "text": [
      "Support Vector Machine\n"
     ]
    },
    {
     "data": {
      "image/png": "[encoded data removed]",
      "text/plain": [
       "<Figure size 640x480 with 1 Axes>"
      ]
     },
     "metadata": {},
     "output_type": "display_data"
    }
   ],
   "source": [
    "print('Support Vector Machine')\n",
    "clf = SklearnClassifier(SVC(kernel = 'rbf', C = 10, probability = True), classes=np.unique(y_true))\n",
    "clf_name = 'Support Vector Machine'\n",
    "qs = UncertaintySampling(method='entropy')\n",
    "qs_name = 'Uncertainty Sampling'\n",
    "cycle, accuracies = ActiveLearning_UncertaintySampling(X_scaled, y_true, 59, 50, clf)\n",
    "plot_AL(cycle, accuracies, qs_name, clf_name)"
   ]
  },
  {
   "cell_type": "code",
   "execution_count": 23,
   "id": "5bbb012d",
   "metadata": {},
   "outputs": [
    {
     "data": {
      "image/png": "[encoded data removed]",
      "text/plain": [
       "<Figure size 640x480 with 1 Axes>"
      ]
     },
     "metadata": {},
     "output_type": "display_data"
    }
   ],
   "source": [
    "clf_name = 'Support Vector Machine'\n",
    "colors = ['blue', 'red', 'green']\n",
    "\n",
    "clf = SklearnClassifier(SVC(kernel = 'rbf', C = 10, probability = True), classes=np.unique(y_true))\n",
    "cycle, accuracies = ActiveLearning_RandomSampling(X_scaled, y_true, 59, 50, clf)\n",
    "plt.plot(cycle, accuracies, color = 'red', label = 'Random')\n",
    "clf = SklearnClassifier(SVC(kernel = 'rbf', C = 10, probability = True), classes=np.unique(y_true))\n",
    "cycle, accuracies = ActiveLearning_UncertaintySampling(X_scaled, y_true, 59, 50, clf)\n",
    "plt.plot(cycle, accuracies, color = 'blue', label = 'Uncertainty')\n",
    "clf = SklearnClassifier(SVC(kernel = 'rbf', C = 10, probability = True), classes=np.unique(y_true))\n",
    "cycle, accuracies = ActiveLearning_QueryByCommittee(X_scaled, y_true, 59, 50, clf)\n",
    "plt.plot(cycle, accuracies, color = 'green', label = 'QBC')\n",
    "clf = SklearnClassifier(SVC(kernel = 'rbf', C = 10, probability = True), classes=np.unique(y_true))\n",
    "cycle, accuracies = ActiveLearning_CostEmbeddingAL(X_scaled, y_true, 59, 50, clf, np.array([0, 1, 2, 3, 4, 5]))\n",
    "plt.plot(cycle, accuracies, color = 'yellow', label = 'Cost Embedding')\n",
    "clf = SklearnClassifier(SVC(kernel = 'rbf', C = 10, probability = True), classes=np.unique(y_true))\n",
    "cycle, accuracies = ActiveLearning_GreedySamplingX(X_scaled, y_true, 59, 50, clf)\n",
    "plt.plot(cycle, accuracies, color = 'black', label = 'Greedy')\n",
    "\n",
    "\n",
    "\n",
    "plt.xlabel('Labeled samples')\n",
    "plt.ylabel('Accuracy')\n",
    "plt.title(clf_name)\n",
    "plt.legend()\n",
    "plt.show()"
   ]
  },
  {
   "cell_type": "code",
   "execution_count": null,
   "id": "9057d6c6",
   "metadata": {},
   "outputs": [],
   "source": []
  }
 ],
 "metadata": {
  "kernelspec": {
   "display_name": "Python 3 (ipykernel)",
   "language": "python",
   "name": "python3"
  },
  "language_info": {
   "codemirror_mode": {
    "name": "ipython",
    "version": 3
   },
   "file_extension": ".py",
   "mimetype": "text/x-python",
   "name": "python",
   "nbconvert_exporter": "python",
   "pygments_lexer": "ipython3",
   "version": "3.9.13"
  }
 },
 "nbformat": 4,
 "nbformat_minor": 5
}
